{
 "cells": [
  {
   "cell_type": "code",
   "execution_count": 1,
   "metadata": {},
   "outputs": [],
   "source": [
    "import pandas as pd\n",
    "import numpy as np"
   ]
  },
  {
   "cell_type": "code",
   "execution_count": null,
   "metadata": {},
   "outputs": [],
   "source": [
    "data=pd.read_csv('Dataset/Telco Raw.csv')\n",
    "data.drop(['customerID'], axis=1, inplace=True)\n",
    "data['Churn'] = data['Churn'].map(lambda s :1  if s =='Yes' else 2)\n",
    "data['SeniorCitizen'] = data['SeniorCitizen'].map(lambda s :1  if s == 1 else 2)\n",
    "data['gender'] = data['gender'].map(lambda s :1  if s =='Male' else 2)\n",
    "data['Partner'] = data['Partner'].map(lambda s :1 if s =='Yes' else 2)\n",
    "data['Dependents'] = data['Dependents'].map(lambda s :1  if s =='Yes' else 2)\n",
    "data['PhoneService'] = data['PhoneService'].map(lambda s :1  if s =='Yes' else 2)\n",
    "data['PaperlessBilling'] = data['PaperlessBilling'].map(lambda s :1  if s =='Yes' else 2)\n",
    "data['OnlineSecurity'] = data['OnlineSecurity'].map(lambda s :1  if s =='Yes' else 2)\n",
    "data['OnlineBackup'] = data['OnlineBackup'].map(lambda s :1  if s =='Yes' else 2)\n",
    "data['DeviceProtection'] = data['DeviceProtection'].map(lambda s :1  if s =='Yes' else 2)\n",
    "data['TechSupport'] = data['TechSupport'].map(lambda s :1  if s =='Yes' else 2)\n",
    "data['StreamingTV'] = data['StreamingTV'].map(lambda s :1  if s =='Yes' else 2)\n",
    "data['StreamingMovies'] = data['StreamingMovies'].map(lambda s :1  if s =='Yes' else 2)\n",
    "for dataset in data:\n",
    "    data['InternetService']=data['InternetService'].replace('Fiber optic', 1)\n",
    "    data['InternetService']=data['InternetService'].replace('DSL', 2) \n",
    "    data['InternetService']=data['InternetService'].replace('No', 3)\n",
    "    data['MultipleLines']=data['MultipleLines'].replace('Yes', 1)\n",
    "    data['MultipleLines']=data['MultipleLines'].replace('No', 2) \n",
    "    data['MultipleLines']=data['MultipleLines'].replace('No phone service', 3)\n",
    "    data['Contract']=data['Contract'].replace('Month-to-month', 1)\n",
    "    data['Contract']=data['Contract'].replace('One year', 2) \n",
    "    data['Contract']=data['Contract'].replace('Two year', 3)\n",
    "    data['PaymentMethod']=data['PaymentMethod'].replace('Electronic check', 1)\n",
    "    data['PaymentMethod']=data['PaymentMethod'].replace('Mailed check', 2) \n",
    "    data['PaymentMethod']=data['PaymentMethod'].replace('Bank transfer (automatic)', 3)\n",
    "    data['PaymentMethod']=data['PaymentMethod'].replace('Credit card (automatic)', 4)\n",
    "len(data[data['TotalCharges'] == \" \"])\n",
    "data = data[data['TotalCharges'] != \" \"]\n",
    "data['TotalCharges'] = pd.to_numeric(data['TotalCharges'])\n",
    "data.to_csv(\"Dataset/Data Telco Sudah Proses.csv\",index=False)"
   ]
  },
  {
   "cell_type": "code",
   "execution_count": 7,
   "metadata": {},
   "outputs": [
    {
     "data": {
      "text/plain": [
       "tenure             0.354049\n",
       "InternetService    0.316350\n",
       "Contract           0.396150\n",
       "Churn              1.000000\n",
       "Name: Churn, dtype: float64"
      ]
     },
     "execution_count": 7,
     "metadata": {},
     "output_type": "execute_result"
    }
   ],
   "source": [
    "df=pd.read_csv('Dataset/Data Telco Sudah Diproses raw.csv')\n",
    "cor = df.corr()\n",
    "cor_target = abs(cor[\"Churn\"])\n",
    "relevant_features = cor_target[cor_target>=0.3]\n",
    "relevant_features"
   ]
  },
  {
   "cell_type": "code",
   "execution_count": null,
   "metadata": {},
   "outputs": [],
   "source": [
    "#0,05\n",
    "df= df.drop(labels = [\"gender\"],axis = 1)\n",
    "df= df.drop(labels = [\"PhoneService\"],axis = 1)\n",
    "df= df.drop(labels = [\"MultipleLines\"],axis = 1)\n",
    "df.to_csv(\"Dataset/Data Telco Proses Raw V0,5.csv\",index=False)\n",
    "#0,1\n",
    "df= df.drop(labels = [\"OnlineBackup\"],axis = 1)\n",
    "df= df.drop(labels = [\"DeviceProtection\"],axis = 1)\n",
    "df= df.drop(labels = [\"StreamingTV\"],axis = 1)\n",
    "df= df.drop(labels = [\"StreamingMovies\"],axis = 1)\n",
    "df.to_csv(\"Dataset/Data Telco Proses Raw V1.csv\",index=False)\n",
    "#0,15\n",
    "df= df.drop(labels = [\"Partner\"],axis = 1)\n",
    "df.to_csv(\"Dataset/Data Telco Proses Raw V1,5.csv\",index=False)\n",
    "#0,175\n",
    "df= df.drop(labels = [\"SeniorCitizen\"],axis = 1)\n",
    "df= df.drop(labels = [\"Dependents\"],axis = 1)\n",
    "df= df.drop(labels = [\"OnlineSecurity\"],axis = 1)\n",
    "df= df.drop(labels = [\"TechSupport\"],axis = 1)\n",
    "df.to_csv(\"Dataset/Data Telco Proses Raw V1,75.csv\",index=False)\n",
    "#0,2\n",
    "df= df.drop(labels = [\"PaperlessBilling\"],axis = 1)\n",
    "df= df.drop(labels = [\"MonthlyCharges\"],axis = 1)\n",
    "df= df.drop(labels = [\"TotalCharges\"],axis = 1)\n",
    "df.to_csv(\"Dataset/Data Telco Proses Raw V2.csv\",index=False)\n",
    "#0,3\n",
    "df= df.drop(labels = [\"PaymentMethod\"],axis = 1)\n",
    "df.to_csv(\"Dataset/Data Telco Proses Raw V3.csv\",index=False)"
   ]
  }
 ],
 "metadata": {
  "kernelspec": {
   "display_name": "Python 3",
   "language": "python",
   "name": "python3"
  },
  "language_info": {
   "codemirror_mode": {
    "name": "ipython",
    "version": 3
   },
   "file_extension": ".py",
   "mimetype": "text/x-python",
   "name": "python",
   "nbconvert_exporter": "python",
   "pygments_lexer": "ipython3",
   "version": "3.6.5"
  }
 },
 "nbformat": 4,
 "nbformat_minor": 4
}
